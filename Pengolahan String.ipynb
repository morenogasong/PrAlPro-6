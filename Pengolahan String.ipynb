{
  "nbformat": 4,
  "nbformat_minor": 0,
  "metadata": {
    "colab": {
      "provenance": []
    },
    "kernelspec": {
      "name": "python3",
      "display_name": "Python 3"
    },
    "language_info": {
      "name": "python"
    }
  },
  "cells": [
    {
      "cell_type": "markdown",
      "source": [
        "**Latihan 7.1** Buatlah sebuah program yang dapat mendeteksi apakah suatu kata adalah anagram dari kata lainnya atau bukan! Anagram adalah kata yang dibolak-balik susunan hurufnya sama. Misal: mata anagram dengan atma, maat, taam, tama, dsb."
      ],
      "metadata": {
        "id": "bOiwTkp4KQX9"
      }
    },
    {
      "cell_type": "code",
      "source": [
        "kata1 = input(\"Masukkan kata pertama = \")\n",
        "kata2= input(\"Masukkan kata kedua = \")\n",
        "\n",
        "kata1 = kata1.lower()\n",
        "kata2 = kata2.lower()\n",
        "\n",
        "kata_pertama = list(kata1)\n",
        "kata_kedua = list(kata2)\n",
        "kata_pertama.sort()\n",
        "kata_kedua.sort()\n",
        "\n",
        "if kata_pertama == kata_kedua:\n",
        "    print(f\"{kata1} dan {kata2} Anagram\")\n",
        "else:\n",
        "    print(f\"{kata1} dan {kata2} bukan anagram\")"
      ],
      "metadata": {
        "colab": {
          "base_uri": "https://localhost:8080/"
        },
        "id": "W0ISZzj5KTZg",
        "outputId": "da5f5272-3447-4a63-b7c5-aa46b8164375"
      },
      "execution_count": 1,
      "outputs": [
        {
          "output_type": "stream",
          "name": "stdout",
          "text": [
            "Masukkan kata pertama = mata\n",
            "Masukkan kata kedua = maat\n",
            "mata dan maat Anagram\n"
          ]
        }
      ]
    },
    {
      "cell_type": "markdown",
      "source": [
        "**Latihan 7.2** Buatlah suatu program yang dapat menghitung frekuensi kemunculan suatu kata yang ada pada String. Misal terdapat kalimat \"Saya mau makan. Makan itu wajib. Mau siang atau malam saya wajib makan\". Ditanyakan kata \"makan\". Output: makan ada 3 buah"
      ],
      "metadata": {
        "id": "f1Otp44kKapQ"
      }
    },
    {
      "cell_type": "code",
      "source": [
        "kalimat = input(\"Masukkan kalimat saudara : \")\n",
        "cari_kata = input(\"Masukkan kata yang saudara cari : \")\n",
        "\n",
        "kalimat = kalimat.lower()\n",
        "kalimat = kalimat.replace(',',' ,')\n",
        "kalimat = kalimat.replace('.',' .')\n",
        "kalimat1 = kalimat.split(' ')\n",
        "\n",
        "frekuensi = 0\n",
        "for k in kalimat1:\n",
        "    if k == cari_kata.lower():\n",
        "        frekuensi = frekuensi + 1\n",
        "\n",
        "print(f\"{cari_kata} ada {frekuensi} buah\")"
      ],
      "metadata": {
        "colab": {
          "base_uri": "https://localhost:8080/"
        },
        "id": "SFd3IAMEKpzd",
        "outputId": "6e0f3357-c296-4769-adad-9efb8f9e8212"
      },
      "execution_count": 2,
      "outputs": [
        {
          "output_type": "stream",
          "name": "stdout",
          "text": [
            "Masukkan kalimat saudara : \"Saya mau makan. Makan itu wajib. Mau siang atau malam saya wajib makan.\n",
            "Masukkan kata yang saudara cari : makan\n",
            "makan ada 3 buah\n"
          ]
        }
      ]
    },
    {
      "cell_type": "markdown",
      "source": [
        "**Latihan 7.3** Buatlah suatu program yang dapat menghapus semua spasi yang berlebih pada sebuah string, dan menjadikannya satu spasi normal! Misal: \"saya tidak suka memancing ikan \"Output: \"saya tidak suka memancing ikan\""
      ],
      "metadata": {
        "id": "6jpEj07FK5dM"
      }
    },
    {
      "cell_type": "code",
      "source": [
        "kalimat = input(\"Masukkan kalimat : \")\n",
        "kata = kalimat.split()\n",
        "\n",
        "for i in kata:\n",
        "    if len(i) < 1:\n",
        "        continue\n",
        "    print(i, end=\" \")"
      ],
      "metadata": {
        "colab": {
          "base_uri": "https://localhost:8080/"
        },
        "id": "TPYjStH4LMCz",
        "outputId": "c0523565-0339-4a60-caae-9da115b4f06b"
      },
      "execution_count": 3,
      "outputs": [
        {
          "output_type": "stream",
          "name": "stdout",
          "text": [
            "Masukkan kalimat :  saya      tidak      suka     memancing      ikan\n",
            "saya tidak suka memancing ikan "
          ]
        }
      ]
    },
    {
      "cell_type": "markdown",
      "source": [
        "**Latihan 7.4** Buatlah suatu program mengetahui kata terpendek dan terpanjang dari suatu kalimat yang diinputkan! Misal: \"red snakes and a black frog in the pool\" Output: terpendek: a, terpanjang: snakes"
      ],
      "metadata": {
        "id": "yWV2CHJ6LZfL"
      }
    },
    {
      "cell_type": "code",
      "source": [
        "def cari_kata(kalimat):\n",
        "    kata = kalimat.split()\n",
        "    terpendek = kata[0]\n",
        "    terpanjang = kata[0]\n",
        "\n",
        "    for k in kata:\n",
        "        if len(k) < len(terpendek):\n",
        "            terpendek = k\n",
        "        if len(k) > len(terpanjang):\n",
        "            terpanjang = k\n",
        "\n",
        "    return terpendek, terpanjang\n",
        "\n",
        "kalimat = input(\"Masukkan kalimat saudara: \")\n",
        "terpendek, terpanjang = cari_kata(kalimat)\n",
        "print(\"terpendek :\", terpendek)\n",
        "print(\"terpanjang :\", terpanjang)"
      ],
      "metadata": {
        "colab": {
          "base_uri": "https://localhost:8080/"
        },
        "id": "haYVA9n-LfUq",
        "outputId": "5ef0411f-af9d-4e58-c457-597d8f7460f3"
      },
      "execution_count": 4,
      "outputs": [
        {
          "output_type": "stream",
          "name": "stdout",
          "text": [
            "Masukkan kalimat saudara: red snakes and a black frog in the pool\n",
            "terpendek : a\n",
            "terpanjang : snakes\n"
          ]
        }
      ]
    }
  ]
}